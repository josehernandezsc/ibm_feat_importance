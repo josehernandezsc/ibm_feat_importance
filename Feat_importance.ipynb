{
    "nbformat_minor": 1,
    "cells": [
        {
            "source": "# IBM Data Science Capstone\n\n### Question 3: Does the Complaint Type that you identified in response to Question 1 have an obvious relationship with any particular characteristic or characteristic of the Houses?\n\nHere we analyze which are the main characteristics from each building or houses within Bronx that respond the most to our select Heat/Hot Water complaints.",
            "cell_type": "markdown",
            "metadata": {}
        },
        {
            "source": "#Create connection and import data\nimport types\nimport pandas as pd\nfrom botocore.client import Config\nimport ibm_boto3\n\nclient_cred = ibm_boto3.client(service_name='s3',\nibm_api_key_id='*****',\nibm_auth_endpoint='https://iam.bluemix.net/oidc/token',\nconfig=Config(signature_version='oauth'),\nendpoint_url='https://s3-api.us-geo.objectstorage.service.networklayer.com')\nbucket = '*****'\n\n\n#download pkl to df\nclient_cred.download_file(Bucket=bucket,Key='df_cos_311.pkl',Filename='./df311.pkl')\ndf311 = pd.read_pickle('./df311.pkl')\n\n\n\n\n#Import PLUTO dataset\n\n\ndef __iter__(self): return 0\n\n# @hidden_cell\n# The following code accesses a file in your IBM Cloud Object Storage. It includes your credentials.\n# You might want to remove those credentials before you share your notebook.\nclient_25df3c37ed4849389dcdd4dd39482a29 = ibm_boto3.client(service_name='s3',\n    ibm_api_key_id='*****',\n    ibm_auth_endpoint=\"https://iam.bluemix.net/oidc/token\",\n    config=Config(signature_version='oauth'),\n    endpoint_url='https://s3-api.us-geo.objectstorage.service.networklayer.com')\n\nbody = client_25df3c37ed4849389dcdd4dd39482a29.get_object(Bucket='****',Key='pluto_18v2_1.csv')['Body']\n# add missing __iter__ method, so pandas accepts body as file-like object\nif not hasattr(body, \"__iter__\"): body.__iter__ = types.MethodType( __iter__, body )\n\ndf = pd.read_csv(body)\n\n\n",
            "cell_type": "code",
            "execution_count": 3,
            "outputs": [
                {
                    "output_type": "stream",
                    "name": "stderr",
                    "text": "/opt/conda/envs/DSX-Python35/lib/python3.5/site-packages/IPython/core/interactiveshell.py:2698: DtypeWarning: Columns (16,17,18,20,22,77) have mixed types. Specify dtype option on import or set low_memory=False.\n  interactivity=interactivity, compiler=compiler, result=result)\n"
                }
            ],
            "metadata": {}
        },
        {
            "source": "a=\"borough,address,bldgarea,bldgdepth,builtfar,commfar,facilfar,lot,lotarea,LotDepth,NumBldgs,NumFloors,OfficeArea,ResArea,ResidFAR,RetailArea,YearBuilt,YearAlter1,ZipCode,YCoord,XCoord\"\na=a.lower()\ncols=a.split(\",\")\ndf=df[cols]",
            "cell_type": "code",
            "execution_count": 4,
            "outputs": [],
            "metadata": {}
        },
        {
            "source": "#Show PLUTO dataset\ndf=df[df[\"borough\"]==\"BX\"]\ndf.head()",
            "cell_type": "code",
            "execution_count": 5,
            "outputs": [
                {
                    "output_type": "execute_result",
                    "metadata": {},
                    "data": {
                        "text/html": "<div>\n<style scoped>\n    .dataframe tbody tr th:only-of-type {\n        vertical-align: middle;\n    }\n\n    .dataframe tbody tr th {\n        vertical-align: top;\n    }\n\n    .dataframe thead th {\n        text-align: right;\n    }\n</style>\n<table border=\"1\" class=\"dataframe\">\n  <thead>\n    <tr style=\"text-align: right;\">\n      <th></th>\n      <th>borough</th>\n      <th>address</th>\n      <th>bldgarea</th>\n      <th>bldgdepth</th>\n      <th>builtfar</th>\n      <th>commfar</th>\n      <th>facilfar</th>\n      <th>lot</th>\n      <th>lotarea</th>\n      <th>lotdepth</th>\n      <th>...</th>\n      <th>numfloors</th>\n      <th>officearea</th>\n      <th>resarea</th>\n      <th>residfar</th>\n      <th>retailarea</th>\n      <th>yearbuilt</th>\n      <th>yearalter1</th>\n      <th>zipcode</th>\n      <th>ycoord</th>\n      <th>xcoord</th>\n    </tr>\n  </thead>\n  <tbody>\n    <tr>\n      <th>0</th>\n      <td>BX</td>\n      <td>CITY ISLAND AVENUE</td>\n      <td>0.0</td>\n      <td>0.0</td>\n      <td>0.00</td>\n      <td>0.0</td>\n      <td>0.0</td>\n      <td>670.0</td>\n      <td>53758.0</td>\n      <td>219.00</td>\n      <td>...</td>\n      <td>0.0</td>\n      <td>NaN</td>\n      <td>NaN</td>\n      <td>0.00</td>\n      <td>NaN</td>\n      <td>0.0</td>\n      <td>0.0</td>\n      <td>NaN</td>\n      <td>246734.0</td>\n      <td>1044510.0</td>\n    </tr>\n    <tr>\n      <th>2</th>\n      <td>BX</td>\n      <td>SEMINOLE AVENUE</td>\n      <td>0.0</td>\n      <td>0.0</td>\n      <td>0.00</td>\n      <td>0.0</td>\n      <td>2.0</td>\n      <td>41.0</td>\n      <td>2369.0</td>\n      <td>95.06</td>\n      <td>...</td>\n      <td>0.0</td>\n      <td>NaN</td>\n      <td>NaN</td>\n      <td>0.90</td>\n      <td>NaN</td>\n      <td>0.0</td>\n      <td>0.0</td>\n      <td>NaN</td>\n      <td>249922.0</td>\n      <td>1026345.0</td>\n    </tr>\n    <tr>\n      <th>3</th>\n      <td>BX</td>\n      <td>EAST 156 STREET</td>\n      <td>0.0</td>\n      <td>0.0</td>\n      <td>0.00</td>\n      <td>0.0</td>\n      <td>4.8</td>\n      <td>14.0</td>\n      <td>3750.0</td>\n      <td>100.00</td>\n      <td>...</td>\n      <td>0.0</td>\n      <td>NaN</td>\n      <td>NaN</td>\n      <td>2.43</td>\n      <td>NaN</td>\n      <td>0.0</td>\n      <td>0.0</td>\n      <td>NaN</td>\n      <td>238351.0</td>\n      <td>1007336.0</td>\n    </tr>\n    <tr>\n      <th>6</th>\n      <td>BX</td>\n      <td>5102 POST ROAD</td>\n      <td>3738.0</td>\n      <td>59.0</td>\n      <td>0.49</td>\n      <td>0.0</td>\n      <td>2.0</td>\n      <td>1502.0</td>\n      <td>7619.0</td>\n      <td>101.58</td>\n      <td>...</td>\n      <td>3.0</td>\n      <td>0.0</td>\n      <td>3738.0</td>\n      <td>0.90</td>\n      <td>0.0</td>\n      <td>2005.0</td>\n      <td>0.0</td>\n      <td>10471.0</td>\n      <td>265726.0</td>\n      <td>1012526.0</td>\n    </tr>\n    <tr>\n      <th>21</th>\n      <td>BX</td>\n      <td>988 PIERCE AVENUE</td>\n      <td>1598.0</td>\n      <td>39.0</td>\n      <td>0.64</td>\n      <td>0.0</td>\n      <td>2.0</td>\n      <td>7.0</td>\n      <td>2500.0</td>\n      <td>100.00</td>\n      <td>...</td>\n      <td>2.0</td>\n      <td>0.0</td>\n      <td>1598.0</td>\n      <td>0.90</td>\n      <td>0.0</td>\n      <td>1920.0</td>\n      <td>0.0</td>\n      <td>10462.0</td>\n      <td>247039.0</td>\n      <td>1024680.0</td>\n    </tr>\n  </tbody>\n</table>\n<p>5 rows \u00d7 21 columns</p>\n</div>",
                        "text/plain": "   borough               address  bldgarea  bldgdepth  builtfar  commfar  \\\n0       BX    CITY ISLAND AVENUE       0.0        0.0      0.00      0.0   \n2       BX       SEMINOLE AVENUE       0.0        0.0      0.00      0.0   \n3       BX       EAST 156 STREET       0.0        0.0      0.00      0.0   \n6       BX        5102 POST ROAD    3738.0       59.0      0.49      0.0   \n21      BX     988 PIERCE AVENUE    1598.0       39.0      0.64      0.0   \n\n    facilfar     lot  lotarea  lotdepth    ...      numfloors  officearea  \\\n0        0.0   670.0  53758.0    219.00    ...            0.0         NaN   \n2        2.0    41.0   2369.0     95.06    ...            0.0         NaN   \n3        4.8    14.0   3750.0    100.00    ...            0.0         NaN   \n6        2.0  1502.0   7619.0    101.58    ...            3.0         0.0   \n21       2.0     7.0   2500.0    100.00    ...            2.0         0.0   \n\n    resarea  residfar  retailarea  yearbuilt  yearalter1  zipcode    ycoord  \\\n0       NaN      0.00         NaN        0.0         0.0      NaN  246734.0   \n2       NaN      0.90         NaN        0.0         0.0      NaN  249922.0   \n3       NaN      2.43         NaN        0.0         0.0      NaN  238351.0   \n6    3738.0      0.90         0.0     2005.0         0.0  10471.0  265726.0   \n21   1598.0      0.90         0.0     1920.0         0.0  10462.0  247039.0   \n\n       xcoord  \n0   1044510.0  \n2   1026345.0  \n3   1007336.0  \n6   1012526.0  \n21  1024680.0  \n\n[5 rows x 21 columns]"
                    },
                    "execution_count": 5
                }
            ],
            "metadata": {}
        },
        {
            "source": "df.isna().sum()",
            "cell_type": "code",
            "execution_count": 6,
            "outputs": [
                {
                    "output_type": "execute_result",
                    "metadata": {},
                    "data": {
                        "text/plain": "borough          0\naddress         80\nbldgarea        65\nbldgdepth       71\nbuiltfar       321\ncommfar         65\nfacilfar        65\nlot              0\nlotarea         71\nlotdepth       189\nnumbldgs        71\nnumfloors       71\nofficearea    7301\nresarea       7301\nresidfar        65\nretailarea    7301\nyearbuilt       65\nyearalter1      65\nzipcode       2526\nycoord         162\nxcoord         162\ndtype: int64"
                    },
                    "execution_count": 6
                }
            ],
            "metadata": {}
        },
        {
            "source": "The officearea, resarea and retailarea NAs are going to be replaced by 0s as per the variables dictionary a value of 0 (or missing) mean that there is no area available or it doesn't apply, and we want to consider this. The following NA is the zipcode. The rest of NAs will be deleted as they mean less than 3% of the total dataset.",
            "cell_type": "markdown",
            "metadata": {}
        },
        {
            "source": "df[[\"officearea\",\"resarea\",\"retailarea\"]].fillna(0,inplace=True)",
            "cell_type": "code",
            "execution_count": 7,
            "outputs": [
                {
                    "output_type": "stream",
                    "name": "stderr",
                    "text": "/opt/conda/envs/DSX-Python35/lib/python3.5/site-packages/pandas/core/frame.py:3035: SettingWithCopyWarning: \nA value is trying to be set on a copy of a slice from a DataFrame\n\nSee the caveats in the documentation: http://pandas.pydata.org/pandas-docs/stable/indexing.html#indexing-view-versus-copy\n  downcast=downcast, **kwargs)\n"
                }
            ],
            "metadata": {}
        },
        {
            "source": "df.dropna(axis=0,inplace=True)",
            "cell_type": "code",
            "execution_count": 8,
            "outputs": [],
            "metadata": {}
        },
        {
            "source": "df.isna().sum()",
            "cell_type": "code",
            "execution_count": 9,
            "outputs": [
                {
                    "output_type": "execute_result",
                    "metadata": {},
                    "data": {
                        "text/plain": "borough       0\naddress       0\nbldgarea      0\nbldgdepth     0\nbuiltfar      0\ncommfar       0\nfacilfar      0\nlot           0\nlotarea       0\nlotdepth      0\nnumbldgs      0\nnumfloors     0\nofficearea    0\nresarea       0\nresidfar      0\nretailarea    0\nyearbuilt     0\nyearalter1    0\nzipcode       0\nycoord        0\nxcoord        0\ndtype: int64"
                    },
                    "execution_count": 9
                }
            ],
            "metadata": {}
        },
        {
            "source": "df.rename(columns={\"address\":\"street_name\"},inplace=True)",
            "cell_type": "code",
            "execution_count": 10,
            "outputs": [],
            "metadata": {}
        },
        {
            "source": "df.set_index(\"street_name\",inplace=True)\ndf311.set_index(\"incident_address\",inplace=True)",
            "cell_type": "code",
            "execution_count": 11,
            "outputs": [],
            "metadata": {}
        },
        {
            "source": "#Filtering PLUTO dataset by Bronx burough\ndf311 = df311[df311[\"borough\"]==\"BRONX\"]\ndf311.head()",
            "cell_type": "code",
            "execution_count": 12,
            "outputs": [
                {
                    "output_type": "execute_result",
                    "metadata": {},
                    "data": {
                        "text/html": "<div>\n<style scoped>\n    .dataframe tbody tr th:only-of-type {\n        vertical-align: middle;\n    }\n\n    .dataframe tbody tr th {\n        vertical-align: top;\n    }\n\n    .dataframe thead th {\n        text-align: right;\n    }\n</style>\n<table border=\"1\" class=\"dataframe\">\n  <thead>\n    <tr style=\"text-align: right;\">\n      <th></th>\n      <th>created_date</th>\n      <th>unique_key</th>\n      <th>complaint_type</th>\n      <th>incident_zip</th>\n      <th>street_name</th>\n      <th>address_type</th>\n      <th>city</th>\n      <th>resolution_description</th>\n      <th>borough</th>\n      <th>latitude</th>\n      <th>longitude</th>\n      <th>closed_date</th>\n      <th>location_type</th>\n      <th>status</th>\n    </tr>\n    <tr>\n      <th>incident_address</th>\n      <th></th>\n      <th></th>\n      <th></th>\n      <th></th>\n      <th></th>\n      <th></th>\n      <th></th>\n      <th></th>\n      <th></th>\n      <th></th>\n      <th></th>\n      <th></th>\n      <th></th>\n      <th></th>\n    </tr>\n  </thead>\n  <tbody>\n    <tr>\n      <th>439 EAST  135 STREET</th>\n      <td>2016-09-22 15:04:59</td>\n      <td>34379006</td>\n      <td>DOOR/WINDOW</td>\n      <td>10454</td>\n      <td>EAST  135 STREET</td>\n      <td>ADDRESS</td>\n      <td>BRONX</td>\n      <td>The Department of Housing Preservation and Dev...</td>\n      <td>BRONX</td>\n      <td>40.806750</td>\n      <td>-73.923258</td>\n      <td>2016-10-11 10:23:06</td>\n      <td>RESIDENTIAL BUILDING</td>\n      <td>Closed</td>\n    </tr>\n    <tr>\n      <th>3114 BAILEY AVENUE</th>\n      <td>2016-09-22 10:58:16</td>\n      <td>34379017</td>\n      <td>UNSANITARY CONDITION</td>\n      <td>10463</td>\n      <td>BAILEY AVENUE</td>\n      <td>ADDRESS</td>\n      <td>BRONX</td>\n      <td>The Department of Housing Preservation and Dev...</td>\n      <td>BRONX</td>\n      <td>40.878393</td>\n      <td>-73.902086</td>\n      <td>2016-09-27 11:10:56</td>\n      <td>RESIDENTIAL BUILDING</td>\n      <td>Closed</td>\n    </tr>\n    <tr>\n      <th>3141 KINGSBRIDGE TERRACE</th>\n      <td>2016-09-22 11:52:26</td>\n      <td>34379032</td>\n      <td>DOOR/WINDOW</td>\n      <td>10463</td>\n      <td>KINGSBRIDGE TERRACE</td>\n      <td>ADDRESS</td>\n      <td>BRONX</td>\n      <td>The Department of Housing Preservation and Dev...</td>\n      <td>BRONX</td>\n      <td>40.878127</td>\n      <td>-73.899360</td>\n      <td>2016-10-07 09:03:53</td>\n      <td>RESIDENTIAL BUILDING</td>\n      <td>Closed</td>\n    </tr>\n    <tr>\n      <th>874 LONGWOOD AVENUE</th>\n      <td>2016-09-22 13:20:17</td>\n      <td>34379033</td>\n      <td>DOOR/WINDOW</td>\n      <td>10459</td>\n      <td>LONGWOOD AVENUE</td>\n      <td>ADDRESS</td>\n      <td>BRONX</td>\n      <td>The Department of Housing Preservation and Dev...</td>\n      <td>BRONX</td>\n      <td>40.819054</td>\n      <td>-73.900826</td>\n      <td>2016-09-27 14:46:59</td>\n      <td>RESIDENTIAL BUILDING</td>\n      <td>Closed</td>\n    </tr>\n    <tr>\n      <th>985 SIMPSON STREET</th>\n      <td>2016-09-22 14:45:40</td>\n      <td>34379358</td>\n      <td>APPLIANCE</td>\n      <td>10459</td>\n      <td>SIMPSON STREET</td>\n      <td>ADDRESS</td>\n      <td>BRONX</td>\n      <td>The Department of Housing Preservation and Dev...</td>\n      <td>BRONX</td>\n      <td>40.821868</td>\n      <td>-73.892880</td>\n      <td>2016-09-27 14:47:02</td>\n      <td>RESIDENTIAL BUILDING</td>\n      <td>Closed</td>\n    </tr>\n  </tbody>\n</table>\n</div>",
                        "text/plain": "                                created_date  unique_key  \\\nincident_address                                           \n439 EAST  135 STREET     2016-09-22 15:04:59    34379006   \n3114 BAILEY AVENUE       2016-09-22 10:58:16    34379017   \n3141 KINGSBRIDGE TERRACE 2016-09-22 11:52:26    34379032   \n874 LONGWOOD AVENUE      2016-09-22 13:20:17    34379033   \n985 SIMPSON STREET       2016-09-22 14:45:40    34379358   \n\n                                complaint_type  incident_zip  \\\nincident_address                                               \n439 EAST  135 STREET               DOOR/WINDOW         10454   \n3114 BAILEY AVENUE        UNSANITARY CONDITION         10463   \n3141 KINGSBRIDGE TERRACE           DOOR/WINDOW         10463   \n874 LONGWOOD AVENUE                DOOR/WINDOW         10459   \n985 SIMPSON STREET                   APPLIANCE         10459   \n\n                                  street_name address_type   city  \\\nincident_address                                                    \n439 EAST  135 STREET         EAST  135 STREET      ADDRESS  BRONX   \n3114 BAILEY AVENUE              BAILEY AVENUE      ADDRESS  BRONX   \n3141 KINGSBRIDGE TERRACE  KINGSBRIDGE TERRACE      ADDRESS  BRONX   \n874 LONGWOOD AVENUE           LONGWOOD AVENUE      ADDRESS  BRONX   \n985 SIMPSON STREET             SIMPSON STREET      ADDRESS  BRONX   \n\n                                                     resolution_description  \\\nincident_address                                                              \n439 EAST  135 STREET      The Department of Housing Preservation and Dev...   \n3114 BAILEY AVENUE        The Department of Housing Preservation and Dev...   \n3141 KINGSBRIDGE TERRACE  The Department of Housing Preservation and Dev...   \n874 LONGWOOD AVENUE       The Department of Housing Preservation and Dev...   \n985 SIMPSON STREET        The Department of Housing Preservation and Dev...   \n\n                         borough   latitude  longitude         closed_date  \\\nincident_address                                                             \n439 EAST  135 STREET       BRONX  40.806750 -73.923258 2016-10-11 10:23:06   \n3114 BAILEY AVENUE         BRONX  40.878393 -73.902086 2016-09-27 11:10:56   \n3141 KINGSBRIDGE TERRACE   BRONX  40.878127 -73.899360 2016-10-07 09:03:53   \n874 LONGWOOD AVENUE        BRONX  40.819054 -73.900826 2016-09-27 14:46:59   \n985 SIMPSON STREET         BRONX  40.821868 -73.892880 2016-09-27 14:47:02   \n\n                                 location_type  status  \nincident_address                                        \n439 EAST  135 STREET      RESIDENTIAL BUILDING  Closed  \n3114 BAILEY AVENUE        RESIDENTIAL BUILDING  Closed  \n3141 KINGSBRIDGE TERRACE  RESIDENTIAL BUILDING  Closed  \n874 LONGWOOD AVENUE       RESIDENTIAL BUILDING  Closed  \n985 SIMPSON STREET        RESIDENTIAL BUILDING  Closed  "
                    },
                    "execution_count": 12
                }
            ],
            "metadata": {}
        },
        {
            "source": "#Merge 311 and PLUTO datasets by Street address\nmerge = df311.join(df,how=\"left\",lsuffix=\"m_\",rsuffix=\"_v\")",
            "cell_type": "code",
            "execution_count": 13,
            "outputs": [],
            "metadata": {}
        },
        {
            "source": "merge.isna().sum()",
            "cell_type": "code",
            "execution_count": 14,
            "outputs": [
                {
                    "output_type": "execute_result",
                    "metadata": {},
                    "data": {
                        "text/plain": "created_date                  0\nunique_key                    0\ncomplaint_type                0\nincident_zip                  0\nstreet_name                   0\naddress_type                  0\ncity                          0\nresolution_description        3\nboroughm_                     0\nlatitude                      0\nlongitude                     0\nclosed_date                 530\nlocation_type                 0\nstatus                        0\nborough_v                 85224\nbldgarea                  85224\nbldgdepth                 85224\nbuiltfar                  85224\ncommfar                   85224\nfacilfar                  85224\nlot                       85224\nlotarea                   85224\nlotdepth                  85224\nnumbldgs                  85224\nnumfloors                 85224\nofficearea                85224\nresarea                   85224\nresidfar                  85224\nretailarea                85224\nyearbuilt                 85224\nyearalter1                85224\nzipcode                   85224\nycoord                    85224\nxcoord                    85224\ndtype: int64"
                    },
                    "execution_count": 14
                }
            ],
            "metadata": {}
        },
        {
            "source": "The missing values from the columns from the PLUTO dataset need to be removed",
            "cell_type": "markdown",
            "metadata": {}
        },
        {
            "source": "cols = list(merge.columns[14:])\nmerge.dropna(subset=cols,axis=0,inplace=True)\nmerge.dropna(subset=[\"resolution_description\",\"closed_date\"],inplace=True)",
            "cell_type": "code",
            "execution_count": 15,
            "outputs": [],
            "metadata": {}
        },
        {
            "source": "merge.isna().sum()",
            "cell_type": "code",
            "execution_count": 16,
            "outputs": [
                {
                    "output_type": "execute_result",
                    "metadata": {},
                    "data": {
                        "text/plain": "created_date              0\nunique_key                0\ncomplaint_type            0\nincident_zip              0\nstreet_name               0\naddress_type              0\ncity                      0\nresolution_description    0\nboroughm_                 0\nlatitude                  0\nlongitude                 0\nclosed_date               0\nlocation_type             0\nstatus                    0\nborough_v                 0\nbldgarea                  0\nbldgdepth                 0\nbuiltfar                  0\ncommfar                   0\nfacilfar                  0\nlot                       0\nlotarea                   0\nlotdepth                  0\nnumbldgs                  0\nnumfloors                 0\nofficearea                0\nresarea                   0\nresidfar                  0\nretailarea                0\nyearbuilt                 0\nyearalter1                0\nzipcode                   0\nycoord                    0\nxcoord                    0\ndtype: int64"
                    },
                    "execution_count": 16
                }
            ],
            "metadata": {}
        },
        {
            "source": "merge.reset_index(inplace=True)\nmerge.head()",
            "cell_type": "code",
            "execution_count": 17,
            "outputs": [
                {
                    "output_type": "execute_result",
                    "metadata": {},
                    "data": {
                        "text/html": "<div>\n<style scoped>\n    .dataframe tbody tr th:only-of-type {\n        vertical-align: middle;\n    }\n\n    .dataframe tbody tr th {\n        vertical-align: top;\n    }\n\n    .dataframe thead th {\n        text-align: right;\n    }\n</style>\n<table border=\"1\" class=\"dataframe\">\n  <thead>\n    <tr style=\"text-align: right;\">\n      <th></th>\n      <th>index</th>\n      <th>created_date</th>\n      <th>unique_key</th>\n      <th>complaint_type</th>\n      <th>incident_zip</th>\n      <th>street_name</th>\n      <th>address_type</th>\n      <th>city</th>\n      <th>resolution_description</th>\n      <th>boroughm_</th>\n      <th>...</th>\n      <th>numfloors</th>\n      <th>officearea</th>\n      <th>resarea</th>\n      <th>residfar</th>\n      <th>retailarea</th>\n      <th>yearbuilt</th>\n      <th>yearalter1</th>\n      <th>zipcode</th>\n      <th>ycoord</th>\n      <th>xcoord</th>\n    </tr>\n  </thead>\n  <tbody>\n    <tr>\n      <th>0</th>\n      <td>1 DOROTHEA PLACE</td>\n      <td>2018-02-02 14:46:11</td>\n      <td>38374779</td>\n      <td>HEAT/HOT WATER</td>\n      <td>10458</td>\n      <td>DOROTHEA PLACE</td>\n      <td>ADDRESS</td>\n      <td>BRONX</td>\n      <td>The Department of Housing Preservation and Dev...</td>\n      <td>BRONX</td>\n      <td>...</td>\n      <td>2.5</td>\n      <td>0.0</td>\n      <td>2395.0</td>\n      <td>0.90</td>\n      <td>0.0</td>\n      <td>1920.0</td>\n      <td>0.0</td>\n      <td>10458.0</td>\n      <td>253669.0</td>\n      <td>1014235.0</td>\n    </tr>\n    <tr>\n      <th>1</th>\n      <td>1 EAST 198 STREET</td>\n      <td>2017-07-26 13:34:39</td>\n      <td>36789719</td>\n      <td>PAINT/PLASTER</td>\n      <td>10468</td>\n      <td>EAST 198 STREET</td>\n      <td>ADDRESS</td>\n      <td>BRONX</td>\n      <td>The Department of Housing Preservation and Dev...</td>\n      <td>BRONX</td>\n      <td>...</td>\n      <td>6.0</td>\n      <td>0.0</td>\n      <td>56462.0</td>\n      <td>6.02</td>\n      <td>2500.0</td>\n      <td>1941.0</td>\n      <td>0.0</td>\n      <td>10468.0</td>\n      <td>256755.0</td>\n      <td>1013989.0</td>\n    </tr>\n    <tr>\n      <th>2</th>\n      <td>1 EAST 198 STREET</td>\n      <td>2017-07-26 13:34:39</td>\n      <td>36792378</td>\n      <td>WATER LEAK</td>\n      <td>10468</td>\n      <td>EAST 198 STREET</td>\n      <td>ADDRESS</td>\n      <td>BRONX</td>\n      <td>The Department of Housing Preservation and Dev...</td>\n      <td>BRONX</td>\n      <td>...</td>\n      <td>6.0</td>\n      <td>0.0</td>\n      <td>56462.0</td>\n      <td>6.02</td>\n      <td>2500.0</td>\n      <td>1941.0</td>\n      <td>0.0</td>\n      <td>10468.0</td>\n      <td>256755.0</td>\n      <td>1013989.0</td>\n    </tr>\n    <tr>\n      <th>3</th>\n      <td>1 EAST 198 STREET</td>\n      <td>2017-10-21 16:19:56</td>\n      <td>37485137</td>\n      <td>PAINT/PLASTER</td>\n      <td>10468</td>\n      <td>EAST 198 STREET</td>\n      <td>ADDRESS</td>\n      <td>BRONX</td>\n      <td>The Department of Housing Preservation and Dev...</td>\n      <td>BRONX</td>\n      <td>...</td>\n      <td>6.0</td>\n      <td>0.0</td>\n      <td>56462.0</td>\n      <td>6.02</td>\n      <td>2500.0</td>\n      <td>1941.0</td>\n      <td>0.0</td>\n      <td>10468.0</td>\n      <td>256755.0</td>\n      <td>1013989.0</td>\n    </tr>\n    <tr>\n      <th>4</th>\n      <td>1 EAST 198 STREET</td>\n      <td>2018-01-11 12:42:11</td>\n      <td>38196792</td>\n      <td>PLUMBING</td>\n      <td>10468</td>\n      <td>EAST 198 STREET</td>\n      <td>ADDRESS</td>\n      <td>BRONX</td>\n      <td>The Department of Housing Preservation and Dev...</td>\n      <td>BRONX</td>\n      <td>...</td>\n      <td>6.0</td>\n      <td>0.0</td>\n      <td>56462.0</td>\n      <td>6.02</td>\n      <td>2500.0</td>\n      <td>1941.0</td>\n      <td>0.0</td>\n      <td>10468.0</td>\n      <td>256755.0</td>\n      <td>1013989.0</td>\n    </tr>\n  </tbody>\n</table>\n<p>5 rows \u00d7 35 columns</p>\n</div>",
                        "text/plain": "               index        created_date  unique_key  complaint_type  \\\n0   1 DOROTHEA PLACE 2018-02-02 14:46:11    38374779  HEAT/HOT WATER   \n1  1 EAST 198 STREET 2017-07-26 13:34:39    36789719   PAINT/PLASTER   \n2  1 EAST 198 STREET 2017-07-26 13:34:39    36792378      WATER LEAK   \n3  1 EAST 198 STREET 2017-10-21 16:19:56    37485137   PAINT/PLASTER   \n4  1 EAST 198 STREET 2018-01-11 12:42:11    38196792        PLUMBING   \n\n   incident_zip      street_name address_type   city  \\\n0         10458   DOROTHEA PLACE      ADDRESS  BRONX   \n1         10468  EAST 198 STREET      ADDRESS  BRONX   \n2         10468  EAST 198 STREET      ADDRESS  BRONX   \n3         10468  EAST 198 STREET      ADDRESS  BRONX   \n4         10468  EAST 198 STREET      ADDRESS  BRONX   \n\n                              resolution_description boroughm_    ...      \\\n0  The Department of Housing Preservation and Dev...     BRONX    ...       \n1  The Department of Housing Preservation and Dev...     BRONX    ...       \n2  The Department of Housing Preservation and Dev...     BRONX    ...       \n3  The Department of Housing Preservation and Dev...     BRONX    ...       \n4  The Department of Housing Preservation and Dev...     BRONX    ...       \n\n   numfloors  officearea  resarea residfar retailarea yearbuilt  yearalter1  \\\n0        2.5         0.0   2395.0     0.90        0.0    1920.0         0.0   \n1        6.0         0.0  56462.0     6.02     2500.0    1941.0         0.0   \n2        6.0         0.0  56462.0     6.02     2500.0    1941.0         0.0   \n3        6.0         0.0  56462.0     6.02     2500.0    1941.0         0.0   \n4        6.0         0.0  56462.0     6.02     2500.0    1941.0         0.0   \n\n   zipcode    ycoord     xcoord  \n0  10458.0  253669.0  1014235.0  \n1  10468.0  256755.0  1013989.0  \n2  10468.0  256755.0  1013989.0  \n3  10468.0  256755.0  1013989.0  \n4  10468.0  256755.0  1013989.0  \n\n[5 rows x 35 columns]"
                    },
                    "execution_count": 17
                }
            ],
            "metadata": {}
        },
        {
            "source": "merge.columns",
            "cell_type": "code",
            "execution_count": 18,
            "outputs": [
                {
                    "output_type": "execute_result",
                    "metadata": {},
                    "data": {
                        "text/plain": "Index(['index', 'created_date', 'unique_key', 'complaint_type', 'incident_zip',\n       'street_name', 'address_type', 'city', 'resolution_description',\n       'boroughm_', 'latitude', 'longitude', 'closed_date', 'location_type',\n       'status', 'borough_v', 'bldgarea', 'bldgdepth', 'builtfar', 'commfar',\n       'facilfar', 'lot', 'lotarea', 'lotdepth', 'numbldgs', 'numfloors',\n       'officearea', 'resarea', 'residfar', 'retailarea', 'yearbuilt',\n       'yearalter1', 'zipcode', 'ycoord', 'xcoord'],\n      dtype='object')"
                    },
                    "execution_count": 18
                }
            ],
            "metadata": {}
        },
        {
            "source": "merge[merge[\"yearbuilt\"]==0].shape",
            "cell_type": "code",
            "execution_count": 19,
            "outputs": [
                {
                    "output_type": "execute_result",
                    "metadata": {},
                    "data": {
                        "text/plain": "(7, 35)"
                    },
                    "execution_count": 19
                }
            ],
            "metadata": {}
        },
        {
            "source": "#drop yearbuilt = 0 rows\nmerge = merge[merge[\"yearbuilt\"]!=0]",
            "cell_type": "code",
            "execution_count": 20,
            "outputs": [],
            "metadata": {}
        },
        {
            "source": "#Using features engineering, create a new feature years_built which shows the age of the building\nmerge[\"years_built\"]=2019-merge[\"yearbuilt\"]",
            "cell_type": "code",
            "execution_count": 21,
            "outputs": [],
            "metadata": {}
        },
        {
            "source": "#removing columns that we won't be needing\nmerge.drop([\"created_date\",\"unique_key\",\"incident_zip\",\"latitude\",\"longitude\",\"street_name\",\"address_type\",\"city\",\"resolution_description\",\n            \"boroughm_\",\"closed_date\",\"location_type\",\"status\",\"borough_v\",\"zipcode\",\"yearbuilt\"],axis=1,inplace=True)\nmerge.reset_index(inplace=True,drop=True)",
            "cell_type": "code",
            "execution_count": 22,
            "outputs": [],
            "metadata": {}
        },
        {
            "source": "merge.dtypes",
            "cell_type": "code",
            "execution_count": 23,
            "outputs": [
                {
                    "output_type": "execute_result",
                    "metadata": {},
                    "data": {
                        "text/plain": "index              object\ncomplaint_type     object\nbldgarea          float64\nbldgdepth         float64\nbuiltfar          float64\ncommfar           float64\nfacilfar          float64\nlot               float64\nlotarea           float64\nlotdepth          float64\nnumbldgs          float64\nnumfloors         float64\nofficearea        float64\nresarea           float64\nresidfar          float64\nretailarea        float64\nyearalter1        float64\nycoord            float64\nxcoord            float64\nyears_built       float64\ndtype: object"
                    },
                    "execution_count": 23
                }
            ],
            "metadata": {}
        },
        {
            "source": "#converting complaint_type == Heat/Hot water to dummy_var\nimport numpy as np\n\nx = np.zeros(merge.shape[0])\nfor i in range(len(x)):\n    if merge.iloc[i,1]=='HEAT/HOT WATER':\n        x[i]=1\n    if i >= 234895:\n        print(x[i])\nx = pd.DataFrame(x)\nmerge_heat=merge.join(x)\nmerge_heat.rename(columns={0:\"HEAT/HOT_WATER\"},inplace=True)\nmerge_heat.drop([\"complaint_type\"],axis = 1, inplace=True)",
            "cell_type": "code",
            "execution_count": 24,
            "outputs": [
                {
                    "output_type": "stream",
                    "name": "stdout",
                    "text": "1.0\n0.0\n0.0\n0.0\n0.0\n0.0\n0.0\n0.0\n"
                }
            ],
            "metadata": {}
        },
        {
            "source": "#Grouping table by index (street name) to get one row per address, showing whether that entry got a Heat/Hot_Water complaint or not\nmerge_heat=merge_heat.groupby(\"index\").mean()",
            "cell_type": "code",
            "execution_count": 25,
            "outputs": [],
            "metadata": {}
        },
        {
            "source": "merge_heat.reset_index(inplace=True,drop=True)",
            "cell_type": "code",
            "execution_count": 26,
            "outputs": [],
            "metadata": {}
        },
        {
            "source": "merge_heat.loc[merge_heat[\"HEAT/HOT_WATER\"]!=0,\"HEAT/HOT_WATER\"]=1\n",
            "cell_type": "code",
            "execution_count": 27,
            "outputs": [],
            "metadata": {}
        },
        {
            "source": "#Slicing predictors from dependent variable\n\ny = np.array(merge_heat[\"HEAT/HOT_WATER\"])\nX = merge_heat.drop([\"HEAT/HOT_WATER\"],axis=1)",
            "cell_type": "code",
            "execution_count": 28,
            "outputs": [],
            "metadata": {}
        },
        {
            "source": "#Normalizing X\nfrom sklearn.preprocessing import StandardScaler\n\nscale = StandardScaler()\nX=scale.fit_transform(X)",
            "cell_type": "code",
            "execution_count": 29,
            "outputs": [],
            "metadata": {}
        },
        {
            "source": "### Correlation analysis\n\nWe start finding the main features which respond for the categorical variable HEAT/HOT_WATER",
            "cell_type": "markdown",
            "metadata": {}
        },
        {
            "source": "#Applying an OLS testing\n\n#Import needed libraries\nimport statsmodels.api as sm\n\n#First add a constant variable in the X matrix to account for bias\nX = sm.add_constant(X)\n\n#Fitting a LR by OLS\nresults = sm.OLS(y,X).fit()\n\n#Print results\nprint(results.summary())\n",
            "cell_type": "code",
            "execution_count": 30,
            "outputs": [
                {
                    "output_type": "stream",
                    "name": "stderr",
                    "text": "/opt/conda/envs/DSX-Python35/lib/python3.5/site-packages/statsmodels/compat/pandas.py:56: FutureWarning: The pandas.core.datetools module is deprecated and will be removed in a future version. Please use the pandas.tseries module instead.\n  from pandas.core import datetools\n"
                },
                {
                    "output_type": "stream",
                    "name": "stdout",
                    "text": "                            OLS Regression Results                            \n==============================================================================\nDep. Variable:                      y   R-squared:                       0.038\nModel:                            OLS   Adj. R-squared:                  0.036\nMethod:                 Least Squares   F-statistic:                     21.59\nDate:                Thu, 13 Jun 2019   Prob (F-statistic):           6.86e-70\nTime:                        21:29:09   Log-Likelihood:                -4496.8\nNo. Observations:                9789   AIC:                             9032.\nDf Residuals:                    9770   BIC:                             9168.\nDf Model:                          18                                         \nCovariance Type:            nonrobust                                         \n==============================================================================\n                 coef    std err          t      P>|t|      [0.025      0.975]\n------------------------------------------------------------------------------\nconst          0.8121      0.004    209.561      0.000       0.805       0.820\nx1            -0.0281      0.024     -1.167      0.243      -0.075       0.019\nx2             0.0346      0.005      7.143      0.000       0.025       0.044\nx3             0.0094      0.006      1.633      0.102      -0.002       0.021\nx4            -0.0061      0.004     -1.526      0.127      -0.014       0.002\nx5             0.0008      0.008      0.097      0.923      -0.016       0.017\nx6             0.0019      0.004      0.458      0.647      -0.006       0.010\nx7             0.0105      0.006      1.674      0.094      -0.002       0.023\nx8            -0.0246      0.005     -4.534      0.000      -0.035      -0.014\nx9            -0.0044      0.007     -0.670      0.503      -0.017       0.008\nx10            0.0468      0.006      8.289      0.000       0.036       0.058\nx11           -0.0061      0.006     -1.024      0.306      -0.018       0.006\nx12            0.0182      0.022      0.825      0.410      -0.025       0.061\nx13            0.0165      0.008      2.078      0.038       0.001       0.032\nx14            0.0034      0.006      0.583      0.560      -0.008       0.015\nx15            0.0036      0.004      0.865      0.387      -0.005       0.012\nx16            0.0115      0.004      2.708      0.007       0.003       0.020\nx17            0.0008      0.006      0.148      0.882      -0.010       0.012\nx18            0.0252      0.004      6.004      0.000       0.017       0.033\n==============================================================================\nOmnibus:                     2129.925   Durbin-Watson:                   1.971\nProb(Omnibus):                  0.000   Jarque-Bera (JB):             3829.141\nSkew:                          -1.509   Prob(JB):                         0.00\nKurtosis:                       3.523   Cond. No.                         17.2\n==============================================================================\n\nWarnings:\n[1] Standard Errors assume that the covariance matrix of the errors is correctly specified.\n"
                }
            ],
            "metadata": {}
        },
        {
            "source": "From this we can see that the variables that have a p-value < 0.05 which correlates the most are:\n\n- bldgdepth\n- lotdepth\n- numfloors\n- residfar\n- ycoord\n- years_built\n\n\nWe now run a correlation analysis to find the variables that are more correlated to HEAT/HOT WATER",
            "cell_type": "markdown",
            "metadata": {}
        },
        {
            "source": "merge_heat.corr()",
            "cell_type": "code",
            "execution_count": 31,
            "outputs": [
                {
                    "output_type": "execute_result",
                    "metadata": {},
                    "data": {
                        "text/html": "<div>\n<style scoped>\n    .dataframe tbody tr th:only-of-type {\n        vertical-align: middle;\n    }\n\n    .dataframe tbody tr th {\n        vertical-align: top;\n    }\n\n    .dataframe thead th {\n        text-align: right;\n    }\n</style>\n<table border=\"1\" class=\"dataframe\">\n  <thead>\n    <tr style=\"text-align: right;\">\n      <th></th>\n      <th>bldgarea</th>\n      <th>bldgdepth</th>\n      <th>builtfar</th>\n      <th>commfar</th>\n      <th>facilfar</th>\n      <th>lot</th>\n      <th>lotarea</th>\n      <th>lotdepth</th>\n      <th>numbldgs</th>\n      <th>numfloors</th>\n      <th>officearea</th>\n      <th>resarea</th>\n      <th>residfar</th>\n      <th>retailarea</th>\n      <th>yearalter1</th>\n      <th>ycoord</th>\n      <th>xcoord</th>\n      <th>years_built</th>\n      <th>HEAT/HOT_WATER</th>\n    </tr>\n  </thead>\n  <tbody>\n    <tr>\n      <th>bldgarea</th>\n      <td>1.000000</td>\n      <td>0.235703</td>\n      <td>0.413723</td>\n      <td>0.001240</td>\n      <td>0.133650</td>\n      <td>0.201459</td>\n      <td>0.516430</td>\n      <td>0.436963</td>\n      <td>0.703948</td>\n      <td>0.490125</td>\n      <td>0.191805</td>\n      <td>0.964519</td>\n      <td>0.122745</td>\n      <td>0.381312</td>\n      <td>0.067659</td>\n      <td>0.004829</td>\n      <td>-0.080326</td>\n      <td>-0.073929</td>\n      <td>0.043666</td>\n    </tr>\n    <tr>\n      <th>bldgdepth</th>\n      <td>0.235703</td>\n      <td>1.000000</td>\n      <td>-0.005668</td>\n      <td>0.048865</td>\n      <td>0.316389</td>\n      <td>-0.013729</td>\n      <td>0.188620</td>\n      <td>0.398293</td>\n      <td>0.016422</td>\n      <td>0.417094</td>\n      <td>0.165259</td>\n      <td>0.188455</td>\n      <td>0.307334</td>\n      <td>0.025048</td>\n      <td>0.206302</td>\n      <td>-0.047068</td>\n      <td>-0.266745</td>\n      <td>0.105324</td>\n      <td>0.127323</td>\n    </tr>\n    <tr>\n      <th>builtfar</th>\n      <td>0.413723</td>\n      <td>-0.005668</td>\n      <td>1.000000</td>\n      <td>-0.000794</td>\n      <td>0.048565</td>\n      <td>0.255513</td>\n      <td>0.001714</td>\n      <td>0.021076</td>\n      <td>0.475845</td>\n      <td>0.100567</td>\n      <td>0.031040</td>\n      <td>0.375317</td>\n      <td>0.036330</td>\n      <td>0.676908</td>\n      <td>0.011016</td>\n      <td>-0.016758</td>\n      <td>-0.019497</td>\n      <td>0.001378</td>\n      <td>0.024805</td>\n    </tr>\n    <tr>\n      <th>commfar</th>\n      <td>0.001240</td>\n      <td>0.048865</td>\n      <td>-0.000794</td>\n      <td>1.000000</td>\n      <td>0.156755</td>\n      <td>0.019524</td>\n      <td>0.007109</td>\n      <td>0.023448</td>\n      <td>-0.004612</td>\n      <td>0.015621</td>\n      <td>0.014501</td>\n      <td>-0.014878</td>\n      <td>0.056069</td>\n      <td>0.039694</td>\n      <td>0.046090</td>\n      <td>-0.091282</td>\n      <td>-0.094165</td>\n      <td>0.049352</td>\n      <td>-0.007778</td>\n    </tr>\n    <tr>\n      <th>facilfar</th>\n      <td>0.133650</td>\n      <td>0.316389</td>\n      <td>0.048565</td>\n      <td>0.156755</td>\n      <td>1.000000</td>\n      <td>0.027993</td>\n      <td>0.012045</td>\n      <td>0.046092</td>\n      <td>-0.041078</td>\n      <td>0.380954</td>\n      <td>0.009275</td>\n      <td>0.135314</td>\n      <td>0.857828</td>\n      <td>0.037389</td>\n      <td>0.209501</td>\n      <td>-0.271101</td>\n      <td>-0.668664</td>\n      <td>0.121526</td>\n      <td>0.105983</td>\n    </tr>\n    <tr>\n      <th>lot</th>\n      <td>0.201459</td>\n      <td>-0.013729</td>\n      <td>0.255513</td>\n      <td>0.019524</td>\n      <td>0.027993</td>\n      <td>1.000000</td>\n      <td>0.080258</td>\n      <td>0.067547</td>\n      <td>0.190143</td>\n      <td>0.120122</td>\n      <td>0.008931</td>\n      <td>0.186412</td>\n      <td>0.012516</td>\n      <td>0.226701</td>\n      <td>-0.027880</td>\n      <td>0.010697</td>\n      <td>-0.037313</td>\n      <td>-0.179828</td>\n      <td>0.004644</td>\n    </tr>\n    <tr>\n      <th>lotarea</th>\n      <td>0.516430</td>\n      <td>0.188620</td>\n      <td>0.001714</td>\n      <td>0.007109</td>\n      <td>0.012045</td>\n      <td>0.080258</td>\n      <td>1.000000</td>\n      <td>0.581529</td>\n      <td>0.451084</td>\n      <td>0.198745</td>\n      <td>0.487644</td>\n      <td>0.427772</td>\n      <td>0.005640</td>\n      <td>0.025050</td>\n      <td>0.026987</td>\n      <td>0.007473</td>\n      <td>0.003547</td>\n      <td>-0.058443</td>\n      <td>-0.001540</td>\n    </tr>\n    <tr>\n      <th>lotdepth</th>\n      <td>0.436963</td>\n      <td>0.398293</td>\n      <td>0.021076</td>\n      <td>0.023448</td>\n      <td>0.046092</td>\n      <td>0.067547</td>\n      <td>0.581529</td>\n      <td>1.000000</td>\n      <td>0.244689</td>\n      <td>0.329124</td>\n      <td>0.151203</td>\n      <td>0.401147</td>\n      <td>0.029739</td>\n      <td>0.056927</td>\n      <td>0.033533</td>\n      <td>0.007849</td>\n      <td>-0.030362</td>\n      <td>-0.095684</td>\n      <td>0.006238</td>\n    </tr>\n    <tr>\n      <th>numbldgs</th>\n      <td>0.703948</td>\n      <td>0.016422</td>\n      <td>0.475845</td>\n      <td>-0.004612</td>\n      <td>-0.041078</td>\n      <td>0.190143</td>\n      <td>0.451084</td>\n      <td>0.244689</td>\n      <td>1.000000</td>\n      <td>0.075533</td>\n      <td>0.237968</td>\n      <td>0.660775</td>\n      <td>-0.057440</td>\n      <td>0.384138</td>\n      <td>0.000879</td>\n      <td>0.022978</td>\n      <td>0.079770</td>\n      <td>0.002757</td>\n      <td>-0.013156</td>\n    </tr>\n    <tr>\n      <th>numfloors</th>\n      <td>0.490125</td>\n      <td>0.417094</td>\n      <td>0.100567</td>\n      <td>0.015621</td>\n      <td>0.380954</td>\n      <td>0.120122</td>\n      <td>0.198745</td>\n      <td>0.329124</td>\n      <td>0.075533</td>\n      <td>1.000000</td>\n      <td>0.030075</td>\n      <td>0.488723</td>\n      <td>0.380422</td>\n      <td>0.062212</td>\n      <td>0.204217</td>\n      <td>-0.031600</td>\n      <td>-0.364527</td>\n      <td>-0.111535</td>\n      <td>0.140705</td>\n    </tr>\n    <tr>\n      <th>officearea</th>\n      <td>0.191805</td>\n      <td>0.165259</td>\n      <td>0.031040</td>\n      <td>0.014501</td>\n      <td>0.009275</td>\n      <td>0.008931</td>\n      <td>0.487644</td>\n      <td>0.151203</td>\n      <td>0.237968</td>\n      <td>0.030075</td>\n      <td>1.000000</td>\n      <td>0.013677</td>\n      <td>0.012051</td>\n      <td>0.053080</td>\n      <td>0.042103</td>\n      <td>-0.009000</td>\n      <td>-0.008242</td>\n      <td>-0.022647</td>\n      <td>-0.009319</td>\n    </tr>\n    <tr>\n      <th>resarea</th>\n      <td>0.964519</td>\n      <td>0.188455</td>\n      <td>0.375317</td>\n      <td>-0.014878</td>\n      <td>0.135314</td>\n      <td>0.186412</td>\n      <td>0.427772</td>\n      <td>0.401147</td>\n      <td>0.660775</td>\n      <td>0.488723</td>\n      <td>0.013677</td>\n      <td>1.000000</td>\n      <td>0.128161</td>\n      <td>0.295759</td>\n      <td>0.062875</td>\n      <td>0.007223</td>\n      <td>-0.086872</td>\n      <td>-0.059683</td>\n      <td>0.046302</td>\n    </tr>\n    <tr>\n      <th>residfar</th>\n      <td>0.122745</td>\n      <td>0.307334</td>\n      <td>0.036330</td>\n      <td>0.056069</td>\n      <td>0.857828</td>\n      <td>0.012516</td>\n      <td>0.005640</td>\n      <td>0.029739</td>\n      <td>-0.057440</td>\n      <td>0.380422</td>\n      <td>0.012051</td>\n      <td>0.128161</td>\n      <td>1.000000</td>\n      <td>0.025778</td>\n      <td>0.182551</td>\n      <td>-0.138601</td>\n      <td>-0.624104</td>\n      <td>0.113590</td>\n      <td>0.116592</td>\n    </tr>\n    <tr>\n      <th>retailarea</th>\n      <td>0.381312</td>\n      <td>0.025048</td>\n      <td>0.676908</td>\n      <td>0.039694</td>\n      <td>0.037389</td>\n      <td>0.226701</td>\n      <td>0.025050</td>\n      <td>0.056927</td>\n      <td>0.384138</td>\n      <td>0.062212</td>\n      <td>0.053080</td>\n      <td>0.295759</td>\n      <td>0.025778</td>\n      <td>1.000000</td>\n      <td>0.009797</td>\n      <td>-0.024342</td>\n      <td>-0.007055</td>\n      <td>-0.010069</td>\n      <td>0.013461</td>\n    </tr>\n    <tr>\n      <th>yearalter1</th>\n      <td>0.067659</td>\n      <td>0.206302</td>\n      <td>0.011016</td>\n      <td>0.046090</td>\n      <td>0.209501</td>\n      <td>-0.027880</td>\n      <td>0.026987</td>\n      <td>0.033533</td>\n      <td>0.000879</td>\n      <td>0.204217</td>\n      <td>0.042103</td>\n      <td>0.062875</td>\n      <td>0.182551</td>\n      <td>0.009797</td>\n      <td>1.000000</td>\n      <td>-0.175624</td>\n      <td>-0.268232</td>\n      <td>0.175937</td>\n      <td>0.061253</td>\n    </tr>\n    <tr>\n      <th>ycoord</th>\n      <td>0.004829</td>\n      <td>-0.047068</td>\n      <td>-0.016758</td>\n      <td>-0.091282</td>\n      <td>-0.271101</td>\n      <td>0.010697</td>\n      <td>0.007473</td>\n      <td>0.007849</td>\n      <td>0.022978</td>\n      <td>-0.031600</td>\n      <td>-0.009000</td>\n      <td>0.007223</td>\n      <td>-0.138601</td>\n      <td>-0.024342</td>\n      <td>-0.175624</td>\n      <td>1.000000</td>\n      <td>0.304754</td>\n      <td>-0.061890</td>\n      <td>0.010480</td>\n    </tr>\n    <tr>\n      <th>xcoord</th>\n      <td>-0.080326</td>\n      <td>-0.266745</td>\n      <td>-0.019497</td>\n      <td>-0.094165</td>\n      <td>-0.668664</td>\n      <td>-0.037313</td>\n      <td>0.003547</td>\n      <td>-0.030362</td>\n      <td>0.079770</td>\n      <td>-0.364527</td>\n      <td>-0.008242</td>\n      <td>-0.086872</td>\n      <td>-0.624104</td>\n      <td>-0.007055</td>\n      <td>-0.268232</td>\n      <td>0.304754</td>\n      <td>1.000000</td>\n      <td>-0.176524</td>\n      <td>-0.094115</td>\n    </tr>\n    <tr>\n      <th>years_built</th>\n      <td>-0.073929</td>\n      <td>0.105324</td>\n      <td>0.001378</td>\n      <td>0.049352</td>\n      <td>0.121526</td>\n      <td>-0.179828</td>\n      <td>-0.058443</td>\n      <td>-0.095684</td>\n      <td>0.002757</td>\n      <td>-0.111535</td>\n      <td>-0.022647</td>\n      <td>-0.059683</td>\n      <td>0.113590</td>\n      <td>-0.010069</td>\n      <td>0.175937</td>\n      <td>-0.061890</td>\n      <td>-0.176524</td>\n      <td>1.000000</td>\n      <td>0.070688</td>\n    </tr>\n    <tr>\n      <th>HEAT/HOT_WATER</th>\n      <td>0.043666</td>\n      <td>0.127323</td>\n      <td>0.024805</td>\n      <td>-0.007778</td>\n      <td>0.105983</td>\n      <td>0.004644</td>\n      <td>-0.001540</td>\n      <td>0.006238</td>\n      <td>-0.013156</td>\n      <td>0.140705</td>\n      <td>-0.009319</td>\n      <td>0.046302</td>\n      <td>0.116592</td>\n      <td>0.013461</td>\n      <td>0.061253</td>\n      <td>0.010480</td>\n      <td>-0.094115</td>\n      <td>0.070688</td>\n      <td>1.000000</td>\n    </tr>\n  </tbody>\n</table>\n</div>",
                        "text/plain": "                bldgarea  bldgdepth  builtfar   commfar  facilfar       lot  \\\nbldgarea        1.000000   0.235703  0.413723  0.001240  0.133650  0.201459   \nbldgdepth       0.235703   1.000000 -0.005668  0.048865  0.316389 -0.013729   \nbuiltfar        0.413723  -0.005668  1.000000 -0.000794  0.048565  0.255513   \ncommfar         0.001240   0.048865 -0.000794  1.000000  0.156755  0.019524   \nfacilfar        0.133650   0.316389  0.048565  0.156755  1.000000  0.027993   \nlot             0.201459  -0.013729  0.255513  0.019524  0.027993  1.000000   \nlotarea         0.516430   0.188620  0.001714  0.007109  0.012045  0.080258   \nlotdepth        0.436963   0.398293  0.021076  0.023448  0.046092  0.067547   \nnumbldgs        0.703948   0.016422  0.475845 -0.004612 -0.041078  0.190143   \nnumfloors       0.490125   0.417094  0.100567  0.015621  0.380954  0.120122   \nofficearea      0.191805   0.165259  0.031040  0.014501  0.009275  0.008931   \nresarea         0.964519   0.188455  0.375317 -0.014878  0.135314  0.186412   \nresidfar        0.122745   0.307334  0.036330  0.056069  0.857828  0.012516   \nretailarea      0.381312   0.025048  0.676908  0.039694  0.037389  0.226701   \nyearalter1      0.067659   0.206302  0.011016  0.046090  0.209501 -0.027880   \nycoord          0.004829  -0.047068 -0.016758 -0.091282 -0.271101  0.010697   \nxcoord         -0.080326  -0.266745 -0.019497 -0.094165 -0.668664 -0.037313   \nyears_built    -0.073929   0.105324  0.001378  0.049352  0.121526 -0.179828   \nHEAT/HOT_WATER  0.043666   0.127323  0.024805 -0.007778  0.105983  0.004644   \n\n                 lotarea  lotdepth  numbldgs  numfloors  officearea   resarea  \\\nbldgarea        0.516430  0.436963  0.703948   0.490125    0.191805  0.964519   \nbldgdepth       0.188620  0.398293  0.016422   0.417094    0.165259  0.188455   \nbuiltfar        0.001714  0.021076  0.475845   0.100567    0.031040  0.375317   \ncommfar         0.007109  0.023448 -0.004612   0.015621    0.014501 -0.014878   \nfacilfar        0.012045  0.046092 -0.041078   0.380954    0.009275  0.135314   \nlot             0.080258  0.067547  0.190143   0.120122    0.008931  0.186412   \nlotarea         1.000000  0.581529  0.451084   0.198745    0.487644  0.427772   \nlotdepth        0.581529  1.000000  0.244689   0.329124    0.151203  0.401147   \nnumbldgs        0.451084  0.244689  1.000000   0.075533    0.237968  0.660775   \nnumfloors       0.198745  0.329124  0.075533   1.000000    0.030075  0.488723   \nofficearea      0.487644  0.151203  0.237968   0.030075    1.000000  0.013677   \nresarea         0.427772  0.401147  0.660775   0.488723    0.013677  1.000000   \nresidfar        0.005640  0.029739 -0.057440   0.380422    0.012051  0.128161   \nretailarea      0.025050  0.056927  0.384138   0.062212    0.053080  0.295759   \nyearalter1      0.026987  0.033533  0.000879   0.204217    0.042103  0.062875   \nycoord          0.007473  0.007849  0.022978  -0.031600   -0.009000  0.007223   \nxcoord          0.003547 -0.030362  0.079770  -0.364527   -0.008242 -0.086872   \nyears_built    -0.058443 -0.095684  0.002757  -0.111535   -0.022647 -0.059683   \nHEAT/HOT_WATER -0.001540  0.006238 -0.013156   0.140705   -0.009319  0.046302   \n\n                residfar  retailarea  yearalter1    ycoord    xcoord  \\\nbldgarea        0.122745    0.381312    0.067659  0.004829 -0.080326   \nbldgdepth       0.307334    0.025048    0.206302 -0.047068 -0.266745   \nbuiltfar        0.036330    0.676908    0.011016 -0.016758 -0.019497   \ncommfar         0.056069    0.039694    0.046090 -0.091282 -0.094165   \nfacilfar        0.857828    0.037389    0.209501 -0.271101 -0.668664   \nlot             0.012516    0.226701   -0.027880  0.010697 -0.037313   \nlotarea         0.005640    0.025050    0.026987  0.007473  0.003547   \nlotdepth        0.029739    0.056927    0.033533  0.007849 -0.030362   \nnumbldgs       -0.057440    0.384138    0.000879  0.022978  0.079770   \nnumfloors       0.380422    0.062212    0.204217 -0.031600 -0.364527   \nofficearea      0.012051    0.053080    0.042103 -0.009000 -0.008242   \nresarea         0.128161    0.295759    0.062875  0.007223 -0.086872   \nresidfar        1.000000    0.025778    0.182551 -0.138601 -0.624104   \nretailarea      0.025778    1.000000    0.009797 -0.024342 -0.007055   \nyearalter1      0.182551    0.009797    1.000000 -0.175624 -0.268232   \nycoord         -0.138601   -0.024342   -0.175624  1.000000  0.304754   \nxcoord         -0.624104   -0.007055   -0.268232  0.304754  1.000000   \nyears_built     0.113590   -0.010069    0.175937 -0.061890 -0.176524   \nHEAT/HOT_WATER  0.116592    0.013461    0.061253  0.010480 -0.094115   \n\n                years_built  HEAT/HOT_WATER  \nbldgarea          -0.073929        0.043666  \nbldgdepth          0.105324        0.127323  \nbuiltfar           0.001378        0.024805  \ncommfar            0.049352       -0.007778  \nfacilfar           0.121526        0.105983  \nlot               -0.179828        0.004644  \nlotarea           -0.058443       -0.001540  \nlotdepth          -0.095684        0.006238  \nnumbldgs           0.002757       -0.013156  \nnumfloors         -0.111535        0.140705  \nofficearea        -0.022647       -0.009319  \nresarea           -0.059683        0.046302  \nresidfar           0.113590        0.116592  \nretailarea        -0.010069        0.013461  \nyearalter1         0.175937        0.061253  \nycoord            -0.061890        0.010480  \nxcoord            -0.176524       -0.094115  \nyears_built        1.000000        0.070688  \nHEAT/HOT_WATER     0.070688        1.000000  "
                    },
                    "execution_count": 31
                }
            ],
            "metadata": {}
        },
        {
            "source": "Here we see that the top 6 correlations are:\n\n- numfloors\n- bldgdepth\n- residfar\n- facilfar\n- xcoord\n- years_built\n\n4 out of these 6 match the top variables from our previous OLS analysis.\n\nPerforming a final Random Forest analysis to search for main features:",
            "cell_type": "markdown",
            "metadata": {}
        },
        {
            "source": "from sklearn.ensemble import RandomForestRegressor\n\nrf = RandomForestRegressor()\nX = X[:,1:]\nrf.fit(X,y)\nrf.feature_importances_",
            "cell_type": "code",
            "execution_count": 32,
            "outputs": [
                {
                    "output_type": "execute_result",
                    "metadata": {},
                    "data": {
                        "text/plain": "array([ 0.06823171,  0.06857373,  0.08357976,  0.00467968,  0.01216007,\n        0.11213552,  0.07208068,  0.06196055,  0.00896314,  0.01806903,\n        0.00759797,  0.1035011 ,  0.02154429,  0.01243873,  0.02152967,\n        0.13166714,  0.12375926,  0.06752796])"
                    },
                    "execution_count": 32
                }
            ],
            "metadata": {}
        },
        {
            "source": "Again, we see that the top 8 features are:\n\n- ycoord\n- xcoord\n- lot\n- resarea\n- bldgarea\n- blgdepth\n- builtfar\n- years_built\n\nFinally trying XGBoost",
            "cell_type": "markdown",
            "metadata": {}
        },
        {
            "source": "from xgboost import XGBClassifier\n\nxgb = XGBClassifier()\nxgb.fit(X,y)\nprint(xgb.feature_importances_)",
            "cell_type": "code",
            "execution_count": 33,
            "outputs": [
                {
                    "output_type": "stream",
                    "name": "stderr",
                    "text": "/opt/conda/envs/DSX-Python35/lib/python3.5/site-packages/sklearn/cross_validation.py:41: DeprecationWarning: This module was deprecated in version 0.18 in favor of the model_selection module into which all the refactored classes and functions are moved. Also note that the interface of the new CV iterators are different from that of this module. This module will be removed in 0.20.\n  \"This module will be removed in 0.20.\", DeprecationWarning)\n"
                },
                {
                    "output_type": "stream",
                    "name": "stdout",
                    "text": "[ 0.08978328  0.03869969  0.09442724  0.00309598  0.00773994  0.04798762\n  0.07894737  0.0758514   0.00309598  0.01547988  0.02012384  0.11609907\n  0.02012384  0.02167183  0.01702786  0.1749226   0.07120743  0.10371517]\n"
                }
            ],
            "metadata": {}
        },
        {
            "source": "import seaborn as sns\n\nsns.boxplot(x=merge_heat[\"HEAT/HOT_WATER\"],y=merge_heat[\"numfloors\"])",
            "cell_type": "code",
            "execution_count": 35,
            "outputs": [
                {
                    "output_type": "stream",
                    "name": "stderr",
                    "text": "/opt/conda/envs/DSX-Python35/lib/python3.5/site-packages/seaborn/categorical.py:462: FutureWarning: remove_na is deprecated and is a private function. Do not use.\n  box_data = remove_na(group_data)\n"
                },
                {
                    "output_type": "execute_result",
                    "metadata": {},
                    "data": {
                        "text/plain": "<matplotlib.axes._subplots.AxesSubplot at 0x7f6301ace0b8>"
                    },
                    "execution_count": 35
                },
                {
                    "output_type": "display_data",
                    "data": {
                        "image/png": "[encoded data removed]",
                        "text/plain": "<matplotlib.figure.Figure at 0x7f62ffd8f320>"
                    },
                    "metadata": {}
                }
            ],
            "metadata": {}
        },
        {
            "source": "We see that the top 7 features are:\n\n- xcoord\n- ycoord\n- years_built\n- bldgarea\n- bldgdepth\n- resarea\n- lotdepth\n\n\n### Concluding Remarks\n\nGiven this, the features that are shared at least in two of the methods used:\n\n- xcoord\n- ycoord\n- bldgdepth\n- years_built\n- numfloors\n- resarea\n- bldgarea\n- residfar\n- lotdepth",
            "cell_type": "markdown",
            "metadata": {}
        },
        {
            "source": "### Additional Insights\n\n#### We see that the main feature is numfloors. This may be also an indicator of houses within the same building using the same Heat/Hot Water system that can be causing more problems when the house is bigger but the system used is for less floors.",
            "cell_type": "markdown",
            "metadata": {}
        },
        {
            "source": "",
            "cell_type": "code",
            "execution_count": null,
            "outputs": [],
            "metadata": {}
        }
    ],
    "nbformat": 4,
    "metadata": {
        "kernelspec": {
            "display_name": "Python 3.5",
            "name": "python3",
            "language": "python"
        },
        "language_info": {
            "mimetype": "text/x-python",
            "nbconvert_exporter": "python",
            "version": "3.5.5",
            "name": "python",
            "file_extension": ".py",
            "pygments_lexer": "ipython3",
            "codemirror_mode": {
                "version": 3,
                "name": "ipython"
            }
        }
    }
}